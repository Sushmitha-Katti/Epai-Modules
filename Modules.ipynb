{
 "cells": [
  {
   "cell_type": "code",
   "execution_count": 3,
   "metadata": {},
   "outputs": [],
   "source": [
    "from PIL import Image"
   ]
  },
  {
   "cell_type": "code",
   "execution_count": 73,
   "metadata": {},
   "outputs": [
    {
     "data": {
      "text/plain": [
       "959"
      ]
     },
     "execution_count": 73,
     "metadata": {},
     "output_type": "execute_result"
    }
   ],
   "source": [
    "(50*1919)//100"
   ]
  },
  {
   "cell_type": "code",
   "execution_count": 68,
   "metadata": {},
   "outputs": [
    {
     "data": {
      "text/plain": [
       "0"
      ]
     },
     "execution_count": 68,
     "metadata": {},
     "output_type": "execute_result"
    }
   ],
   "source": [
    "(50//100)*a.size[0]"
   ]
  },
  {
   "cell_type": "code",
   "execution_count": 13,
   "metadata": {},
   "outputs": [],
   "source": [
    "import os\n",
    "import argparse\n",
    "form PIL import Image\n"
   ]
  },
  {
   "cell_type": "code",
   "execution_count": 74,
   "metadata": {},
   "outputs": [],
   "source": [
    "def resize_by_perecentage(path, value):\n",
    "   \n",
    "    \n",
    "    def single_file(path,value) : \n",
    "        if os.path.isfile(path) and path.endswith(('jpg', 'png', 'jpeg')):\n",
    "            full_path = os.path.abspath(path)\n",
    "            image = Image.open(full_path)\n",
    "            size = image.size\n",
    "            new_size = ((value*size[0])//100, (value*size[1])//100)\n",
    "            image.resize(new_size)\n",
    "            image.save(full_path)\n",
    "        else :\n",
    "            raiseValueError(\"Expected images of format .jpg, jpeg or png!!\")\n",
    "            \n",
    "    if os.path.isfile(path):\n",
    "        single_file(path,value)\n",
    "            \n",
    "    elif os.path.isdir(path):\n",
    "        for file in os.listdir(path):\n",
    "            single_file(file, value)\n",
    "            \n",
    "    print(\"Images are rezied successfully\")\n",
    "            \n",
    "    "
   ]
  },
  {
   "cell_type": "code",
   "execution_count": 147,
   "metadata": {},
   "outputs": [],
   "source": [
    "def resize_single_image(path,feature_func, value):\n",
    "    \n",
    "        if os.path.isfile(path) and path.endswith(('jpg', 'png', 'jpeg')):\n",
    "            \n",
    "            full_path = os.path.abspath(path)\n",
    "            image = Image.open(full_path)\n",
    "            size = image.size\n",
    "            new_size = feature_func(size,value)\n",
    "            resize_image = image.resize(new_size)\n",
    "\n",
    "            resize_image.save(full_path)\n",
    "        else :\n",
    "            raiseValueError(\"Expected images of format .jpg, jpeg or png!!\")\n",
    "            \n",
    "        "
   ]
  },
  {
   "cell_type": "code",
   "execution_count": 148,
   "metadata": {},
   "outputs": [],
   "source": [
    "def resizer(path, feature, value):\n",
    "    \"\"\"\n",
    "    Resizes bulk images with a given feature \n",
    "    percentange : res_p\n",
    "    determined_width : res_w\n",
    "    determined_height : res_h\n",
    "    \n",
    "    \"\"\"\n",
    "    \n",
    "    feature_dict = {\n",
    "        'res_p' : lambda size, val : ((val*size[0])//100, (val*size[0])//100),\n",
    "        'res_w' : lambda size, val : (val, size[1] * val //size[0]),\n",
    "        'res_h' : lambda size, val : (size[0] * val //size[1], val)\n",
    "        \n",
    "    }\n",
    "    if not(os.path.isdir(path) or os.path.isfile(path)):\n",
    "        raise ValueError(f'The location \"{path}\" does not exist')\n",
    "        \n",
    "    if(value <= 0) :\n",
    "        raise ValueError(\"The resolution value must be greater than 0\")\n",
    "        \n",
    "        \n",
    "    if os.path.isfile(path):\n",
    "        print('here')\n",
    "        resize_single_image(path,feature_dict[feature],value)\n",
    "            \n",
    "    elif os.path.isdir(path):\n",
    "        for file in os.listdir(path):\n",
    "            resize_single_image(file, feature_dict[feature],value)\n",
    "            \n",
    "    print(\"Images are resizied successfully\")\n",
    "        \n",
    "    "
   ]
  },
  {
   "cell_type": "code",
   "execution_count": 149,
   "metadata": {},
   "outputs": [
    {
     "name": "stdout",
     "output_type": "stream",
     "text": [
      "here\n",
      "Images are rezied successfully\n"
     ]
    }
   ],
   "source": [
    "resizer('logic.png', 'res_h', 100)"
   ]
  },
  {
   "cell_type": "code",
   "execution_count": 150,
   "metadata": {},
   "outputs": [
    {
     "data": {
      "text/plain": [
       "(153, 100)"
      ]
     },
     "execution_count": 150,
     "metadata": {},
     "output_type": "execute_result"
    }
   ],
   "source": [
    "Image.open('logic.png').size"
   ]
  },
  {
   "cell_type": "code",
   "execution_count": 174,
   "metadata": {},
   "outputs": [],
   "source": [
    "def single_image_cropper(img, feature_func, value):\n",
    "    \n",
    "     if os.path.isfile(path) and path.endswith(('jpg', 'png', 'jpeg')):\n",
    "            \n",
    "            full_path = os.path.abspath(path)\n",
    "            image = Image.open(full_path)\n",
    "            w, h = feature_func(image.size, value)\n",
    "            img_width, img_height = image.size\n",
    "            left, right = (img_width - w) //2 , (img_width + w) // 2\n",
    "            top, bottom = (img_height - h) // 2, (img_height + h) // 2\n",
    "            print(left,right,top,bottom)\n",
    "            if(left < 0 or right < 0 or top < 0 or bottom < 0 ):\n",
    "                print(f\"Image in location {full_path} cannot be cropped\")\n",
    "            else :\n",
    "                new_image = image.crop((left, top, right, bottom))\n",
    "            new_image.save(full_path)\n",
    "        \n",
    "\n",
    "            \n",
    "     else:\n",
    "            raiseValueError(\"Expected images of format .jpg, jpeg or png!!\")\n",
    "    \n",
    "    "
   ]
  },
  {
   "cell_type": "code",
   "execution_count": 175,
   "metadata": {},
   "outputs": [],
   "source": [
    "def center_cropper(path, feature, value):\n",
    "    \"\"\"\n",
    "    Crop bulk images with a given feature \n",
    "    percentange : crop_p\n",
    "    pixel : crop_px\n",
    "\n",
    "    \n",
    "    \"\"\"\n",
    "    \n",
    "    feature_dict = {\n",
    "        'crp_px' : lambda old_size, new_size : (new_size[0], new_size[1]),\n",
    "        'crp_p' : lambda old_size, new_size : (new_size[0]*old_size[0]//100, new_size[1]*old_size[1]//100),\n",
    "      \n",
    "        \n",
    "    }\n",
    "    if not(os.path.isdir(path) or os.path.isfile(path)):\n",
    "        raise ValueError(f'The location \"{path}\" does not exist')\n",
    "        \n",
    "    if(value[0] <= 0 or value[1] <= 0) :\n",
    "        raise ValueError(\"The resolution value must be greater than 0\")\n",
    "        \n",
    "        \n",
    "    if os.path.isfile(path):\n",
    "       \n",
    "        single_image_cropper(path,feature_dict[feature],value)\n",
    "            \n",
    "    elif os.path.isdir(path):\n",
    "        for file in os.listdir(path):\n",
    "            single_image_cropper(file, feature_dict[feature],value)\n",
    "    print(\"All images cropped successfully\")"
   ]
  },
  {
   "cell_type": "code",
   "execution_count": 177,
   "metadata": {},
   "outputs": [
    {
     "name": "stdout",
     "output_type": "stream",
     "text": [
      "909 1009 600 700\n",
      "All images cropped successfully\n"
     ]
    }
   ],
   "source": [
    "center_cropper('logic.png', 'crp_px', (100,100))"
   ]
  },
  {
   "cell_type": "code",
   "execution_count": 173,
   "metadata": {},
   "outputs": [
    {
     "data": {
      "text/plain": [
       "(1919, 1300)"
      ]
     },
     "execution_count": 173,
     "metadata": {},
     "output_type": "execute_result"
    }
   ],
   "source": [
    "Image.open('logic.png').size"
   ]
  },
  {
   "cell_type": "code",
   "execution_count": null,
   "metadata": {},
   "outputs": [],
   "source": []
  }
 ],
 "metadata": {
  "kernelspec": {
   "display_name": "Python 3",
   "language": "python",
   "name": "python3"
  },
  "language_info": {
   "codemirror_mode": {
    "name": "ipython",
    "version": 3
   },
   "file_extension": ".py",
   "mimetype": "text/x-python",
   "name": "python",
   "nbconvert_exporter": "python",
   "pygments_lexer": "ipython3",
   "version": "3.7.3"
  }
 },
 "nbformat": 4,
 "nbformat_minor": 4
}
